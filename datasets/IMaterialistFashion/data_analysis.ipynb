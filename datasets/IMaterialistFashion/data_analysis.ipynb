{
 "cells": [
  {
   "cell_type": "code",
   "execution_count": 3,
   "metadata": {
    "collapsed": true
   },
   "outputs": [
    {
     "ename": "PermissionError",
     "evalue": "[Errno 13] Permission denied: '/Users/tony/Develop/data/IMaterialistFashion/train.csv'",
     "traceback": [
      "\u001b[0;31m---------------------------------------------------------------------------\u001b[0m",
      "\u001b[0;31mPermissionError\u001b[0m                           Traceback (most recent call last)",
      "\u001b[0;32m<ipython-input-3-b79ea704441e>\u001b[0m in \u001b[0;36m<module>\u001b[0;34m\u001b[0m\n\u001b[1;32m     44\u001b[0m \u001b[0;34m\u001b[0m\u001b[0m\n\u001b[1;32m     45\u001b[0m \u001b[0;34m\u001b[0m\u001b[0m\n\u001b[0;32m---> 46\u001b[0;31m \u001b[0mdf\u001b[0m \u001b[0;34m=\u001b[0m \u001b[0mpd\u001b[0m\u001b[0;34m.\u001b[0m\u001b[0mread_csv\u001b[0m\u001b[0;34m(\u001b[0m\u001b[0mopen\u001b[0m\u001b[0;34m(\u001b[0m\u001b[0;34m'/Users/tony/Develop/data/IMaterialistFashion/train.csv'\u001b[0m\u001b[0;34m,\u001b[0m\u001b[0;34m'r'\u001b[0m\u001b[0;34m)\u001b[0m\u001b[0;34m)\u001b[0m\u001b[0;34m\u001b[0m\u001b[0;34m\u001b[0m\u001b[0m\n\u001b[0m\u001b[1;32m     47\u001b[0m \u001b[0mimg_ind_num\u001b[0m \u001b[0;34m=\u001b[0m \u001b[0mdf\u001b[0m\u001b[0;34m.\u001b[0m\u001b[0mgroupby\u001b[0m\u001b[0;34m(\u001b[0m\u001b[0;34m\"ImageId\"\u001b[0m\u001b[0;34m)\u001b[0m\u001b[0;34m[\u001b[0m\u001b[0;34m\"ClassId\"\u001b[0m\u001b[0;34m]\u001b[0m\u001b[0;34m.\u001b[0m\u001b[0mcount\u001b[0m\u001b[0;34m(\u001b[0m\u001b[0;34m)\u001b[0m\u001b[0;34m\u001b[0m\u001b[0;34m\u001b[0m\u001b[0m\n\u001b[1;32m     48\u001b[0m \u001b[0;34m\u001b[0m\u001b[0m\n",
      "\u001b[0;31mPermissionError\u001b[0m: [Errno 13] Permission denied: '/Users/tony/Develop/data/IMaterialistFashion/train.csv'"
     ],
     "output_type": "error"
    }
   ],
   "source": [
    "import os\n",
    "import pandas as pd # data processing, CSV file I/O (e.g. pd.read_csv)\n",
    "import numpy as np # linear algebra\n",
    "input_dir = \"~/Develop/data/IMaterialistFashion/\"\n",
    "train_img_dir = os.path.join(input_dir, 'train')\n",
    "test_img_dir = os.path.join(input_dir, 'test')\n",
    "\n",
    "WIDTH = 512\n",
    "HEIGHT = 512\n",
    "category_num = 46 + 1\n",
    "\n",
    "ratio = 8\n",
    "\n",
    "epoch_num = 8\n",
    "batch_size = 4\n",
    "\n",
    "def make_onehot_vec(x):\n",
    "    vec = np.zeros(category_num)\n",
    "    vec[x] = 1\n",
    "    return vec\n",
    "\n",
    "def make_mask_img(segment_df):\n",
    "    seg_width = segment_df.at[0, \"Width\"]\n",
    "    seg_height = segment_df.at[0, \"Height\"]\n",
    "    seg_img = np.full(seg_width*seg_height, category_num-1, dtype=np.int32)\n",
    "    for encoded_pixels, class_id in zip(segment_df[\"EncodedPixels\"].values, segment_df[\"ClassId\"].values):\n",
    "        pixel_list = list(map(int, encoded_pixels.split(\" \")))\n",
    "        for i in range(0, len(pixel_list), 2):\n",
    "            start_index = pixel_list[i] - 1\n",
    "            index_len = pixel_list[i+1] - 1\n",
    "            seg_img[start_index:start_index+index_len] = int(class_id.split(\"_\")[0])\n",
    "    seg_img = seg_img.reshape((seg_height, seg_width), order='F')\n",
    "    seg_img = cv2.resize(seg_img, (WIDTH, HEIGHT), interpolation=cv2.INTER_NEAREST)\n",
    "    \"\"\"\n",
    "    seg_img_onehot = np.zeros((HEIGHT, WIDTH, category_num), dtype=np.int32)\n",
    "    #seg_img_onehot = np.zeros((seg_height//ratio, seg_width//ratio, category_num), dtype=np.int32)\n",
    "    # OPTIMIZE: slow\n",
    "    for ind in range(HEIGHT):\n",
    "        for col in range(WIDTH):\n",
    "            seg_img_onehot[ind, col] = make_onehot_vec(seg_img[ind, col])\n",
    "    \"\"\"\n",
    "    return seg_img\n",
    "\n",
    "\n",
    "df = pd.read_csv(open('/Users/tony/Develop/data/IMaterialistFashion/train.csv','r'))\n",
    "img_ind_num = df.groupby(\"ImageId\")[\"ClassId\"].count()\n",
    "\n"
   ]
  },
  {
   "cell_type": "code",
   "execution_count": null,
   "metadata": {},
   "outputs": [],
   "source": []
  }
 ],
 "metadata": {
  "kernelspec": {
   "display_name": "Python 2",
   "language": "python",
   "name": "python2"
  },
  "language_info": {
   "codemirror_mode": {
    "name": "ipython",
    "version": 2
   },
   "file_extension": ".py",
   "mimetype": "text/x-python",
   "name": "python",
   "nbconvert_exporter": "python",
   "pygments_lexer": "ipython2",
   "version": "2.7.6"
  }
 },
 "nbformat": 4,
 "nbformat_minor": 0
}
