{
 "cells": [
  {
   "cell_type": "code",
   "execution_count": 1,
   "metadata": {
    "collapsed": true
   },
   "outputs": [
    {
     "data": {
      "text/plain": [
       "['.config',\n 'Music',\n '.kaggle',\n '.condarc',\n '.docker',\n '.vim',\n '.lldbinit',\n '.DS_Store',\n 'Develop',\n '.CFUserTextEncoding',\n '.wget-hsts',\n '.bashrc',\n '.zshrc',\n '.local',\n 'Pictures',\n '.zcompdump-DancePro-5.3',\n 'tensorpack_data',\n '.nvm',\n '.zsh_history',\n '.ipython',\n 'Desktop',\n 'Library',\n '.matplotlib',\n '.zcompdump-bytedance的MacBook Pro-5.3',\n '.ShadowsocksX-NG',\n '.anaconda3',\n '.bash_sessions',\n '.fzf.zsh',\n 'PycharmProjects',\n 'Public',\n '.fzf.bash',\n '.torch',\n '.zshrc_backup',\n '.gitattributes',\n '.theano',\n '.ssh',\n 'Movies',\n 'Applications',\n '.eslintrc.js',\n '.Trash',\n '.zoomus',\n '.jupyter',\n '.zcompdump',\n '.keras',\n '.npm',\n 'Documents',\n '.vscode',\n '.zcompdump-ByteDance-5.3',\n '.histfile',\n '.bash_profile',\n '.macbootstrap',\n '.oh-my-zsh',\n 'anaconda3',\n 'Downloads',\n '.python_history',\n '.cache',\n '.gitconfig',\n '.gitconfig_backup',\n '.bash_history',\n '.viminfo',\n '.conda',\n '.DIRECTORIES',\n 'repy2.txt']"
      ]
     },
     "execution_count": 1,
     "metadata": {},
     "output_type": "execute_result"
    }
   ],
   "source": [
    "import os\n",
    "import pandas as pd # data processing, CSV file I/O (e.g. pd.read_csv)\n",
    "import numpy as np # linear algebra\n",
    "input_dir = \"~/Develop/data/IMaterialistFashion/\"\n",
    "train_img_dir = os.path.join(input_dir, 'train')\n",
    "test_img_dir = os.path.join(input_dir, 'test')\n",
    "\n",
    "WIDTH = 512\n",
    "HEIGHT = 512\n",
    "category_num = 46 + 1\n",
    "\n",
    "ratio = 8\n",
    "\n",
    "epoch_num = 8\n",
    "batch_size = 4\n",
    "\n",
    "def make_onehot_vec(x):\n",
    "    vec = np.zeros(category_num)\n",
    "    vec[x] = 1\n",
    "    return vec\n",
    "\n",
    "def make_mask_img(segment_df):\n",
    "    seg_width = segment_df.at[0, \"Width\"]\n",
    "    seg_height = segment_df.at[0, \"Height\"]\n",
    "    seg_img = np.full(seg_width*seg_height, category_num-1, dtype=np.int32)\n",
    "    for encoded_pixels, class_id in zip(segment_df[\"EncodedPixels\"].values, segment_df[\"ClassId\"].values):\n",
    "        pixel_list = list(map(int, encoded_pixels.split(\" \")))\n",
    "        for i in range(0, len(pixel_list), 2):\n",
    "            start_index = pixel_list[i] - 1\n",
    "            index_len = pixel_list[i+1] - 1\n",
    "            seg_img[start_index:start_index+index_len] = int(class_id.split(\"_\")[0])\n",
    "    seg_img = seg_img.reshape((seg_height, seg_width), order='F')\n",
    "    seg_img = cv2.resize(seg_img, (WIDTH, HEIGHT), interpolation=cv2.INTER_NEAREST)\n",
    "    \"\"\"\n",
    "    seg_img_onehot = np.zeros((HEIGHT, WIDTH, category_num), dtype=np.int32)\n",
    "    #seg_img_onehot = np.zeros((seg_height//ratio, seg_width//ratio, category_num), dtype=np.int32)\n",
    "    # OPTIMIZE: slow\n",
    "    for ind in range(HEIGHT):\n",
    "        for col in range(WIDTH):\n",
    "            seg_img_onehot[ind, col] = make_onehot_vec(seg_img[ind, col])\n",
    "    \"\"\"\n",
    "    return seg_img\n",
    "\n",
    "\n"
   ]
  },
  {
   "cell_type": "code",
   "execution_count": null,
   "metadata": {},
   "outputs": [],
   "source": []
  }
 ],
 "metadata": {
  "kernelspec": {
   "display_name": "Python 2",
   "language": "python",
   "name": "python2"
  },
  "language_info": {
   "codemirror_mode": {
    "name": "ipython",
    "version": 2
   },
   "file_extension": ".py",
   "mimetype": "text/x-python",
   "name": "python",
   "nbconvert_exporter": "python",
   "pygments_lexer": "ipython2",
   "version": "2.7.6"
  }
 },
 "nbformat": 4,
 "nbformat_minor": 0
}
